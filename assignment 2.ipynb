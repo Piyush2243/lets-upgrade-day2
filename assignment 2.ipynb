{
 "cells": [
  {
   "cell_type": "code",
   "execution_count": 31,
   "metadata": {
    "scrolled": false
   },
   "outputs": [
    {
     "name": "stdout",
     "output_type": "stream",
     "text": [
      "10\n",
      "0\n",
      "0\n",
      "0\n",
      "2\n",
      "1\n",
      "3\n",
      "6\n",
      "5\n",
      "7\n",
      "[10, 0, 0, 0, 2, 6]\n"
     ]
    }
   ],
   "source": [
    "l = []\n",
    "for i in range(0, 10):\n",
    "    t = int(input())\n",
    "    if t % 2 == 0:\n",
    "        l.append(t)\n",
    "print(l)"
   ]
  },
  {
   "cell_type": "markdown",
   "metadata": {},
   "source": [
    "# LIST COMPREHENSION"
   ]
  },
  {
   "cell_type": "code",
   "execution_count": 32,
   "metadata": {},
   "outputs": [
    {
     "name": "stdout",
     "output_type": "stream",
     "text": [
      "['Paris', 'London', 'Berlin', 'Tokyo', 'Sydney']\n"
     ]
    }
   ],
   "source": [
    "city1 = [\"Paris\", \"London\", \"Berlin\", \"Tokyo\", \"Sydney\"]\n",
    "city2 = []\n",
    "city2 = [x for x in city1]\n",
    "print(city2)"
   ]
  },
  {
   "cell_type": "code",
   "execution_count": 37,
   "metadata": {},
   "outputs": [
    {
     "name": "stdout",
     "output_type": "stream",
     "text": [
      "['s', 'i', 'n', 'g', 'a', 'p', 'o', 'r', 'e']\n"
     ]
    }
   ],
   "source": [
    "str1 = \"singapore\" #For loop\n",
    "str2 = []\n",
    "for x in str1:\n",
    "    str2.append(x)\n",
    "print(str2)"
   ]
  },
  {
   "cell_type": "code",
   "execution_count": 36,
   "metadata": {},
   "outputs": [
    {
     "name": "stdout",
     "output_type": "stream",
     "text": [
      "['s', 'i', 'n', 'g', 'a', 'p', 'o', 'r', 'e']\n"
     ]
    }
   ],
   "source": [
    "str1 = \"singapore\" #LIST COMPERHENSION\n",
    "str2 = []\n",
    "str2 = [x for x in str1]\n",
    "print(str2)"
   ]
  },
  {
   "cell_type": "code",
   "execution_count": 38,
   "metadata": {},
   "outputs": [
    {
     "name": "stdout",
     "output_type": "stream",
     "text": [
      "[1, 2, 3, 4, 5, 6, 7, 8, 9]\n"
     ]
    }
   ],
   "source": [
    "# For loop\n",
    "numbers = []\n",
    "for i in range(1, 10):\n",
    "    numbers.append(i)\n",
    "print(numbers)\n",
    "\n"
   ]
  },
  {
   "cell_type": "code",
   "execution_count": 39,
   "metadata": {},
   "outputs": [
    {
     "name": "stdout",
     "output_type": "stream",
     "text": [
      "[1, 2, 3, 4, 5, 6, 7, 8, 9]\n"
     ]
    }
   ],
   "source": [
    "#LIST COMPERHENSION\n",
    "numbers = []\n",
    "numbers = [ i for i in range(1, 10)]\n",
    "print(numbers)"
   ]
  },
  {
   "cell_type": "code",
   "execution_count": 40,
   "metadata": {},
   "outputs": [
    {
     "name": "stdout",
     "output_type": "stream",
     "text": [
      "[2, 4, 6, 8, 10]\n"
     ]
    }
   ],
   "source": [
    "numbers = [1, 2, 3, 4, 5, 6, 7, 8, 9, 10]\n",
    "even_no = []\n",
    "for i in numbers:\n",
    "    if i%2 == 0:\n",
    "        even_no.append(i)\n",
    "print(even_no)"
   ]
  },
  {
   "cell_type": "code",
   "execution_count": 41,
   "metadata": {},
   "outputs": [
    {
     "name": "stdout",
     "output_type": "stream",
     "text": [
      "[2, 4, 6, 8, 10]\n"
     ]
    }
   ],
   "source": [
    "numbers = [1, 2, 3, 4, 5, 6, 7, 8, 9, 10]\n",
    "even_no = []\n",
    "even_no = [i for i in numbers if i%2 == 0]\n",
    "print(even_no)"
   ]
  },
  {
   "cell_type": "code",
   "execution_count": 42,
   "metadata": {},
   "outputs": [
    {
     "name": "stdout",
     "output_type": "stream",
     "text": [
      "['a', 'o', 'e']\n"
     ]
    }
   ],
   "source": [
    "list1 = ['q', 'a', 't', 'd', 'o', 'f', 'e']\n",
    "list2 = ['a', 'e', 'i', 'o', 'u']\n",
    "result = []\n",
    "for i in list1:\n",
    "    for j in list2:\n",
    "        if i == j:\n",
    "          result.append(i)\n",
    "print(result)"
   ]
  },
  {
   "cell_type": "code",
   "execution_count": 43,
   "metadata": {},
   "outputs": [
    {
     "name": "stdout",
     "output_type": "stream",
     "text": [
      "['a', 'o', 'e']\n"
     ]
    }
   ],
   "source": [
    "list1 = ['q', 'a', 't', 'd', 'o', 'f', 'e']\n",
    "list2 = ['a', 'e', 'i', 'o', 'u']\n",
    "result = [i for i in list1 for j in list2 if i == j]\n",
    "print(result)"
   ]
  },
  {
   "cell_type": "code",
   "execution_count": 44,
   "metadata": {},
   "outputs": [
    {
     "name": "stdout",
     "output_type": "stream",
     "text": [
      "[1, 4, 9, 16, 25, 36, 49, 64, 81]\n"
     ]
    }
   ],
   "source": [
    "def power(x):\n",
    "    return x**2\n",
    "p_num = []\n",
    "for x in range(1, 10):\n",
    "    p_num.append(power(x))\n",
    "print(p_num)"
   ]
  },
  {
   "cell_type": "code",
   "execution_count": 46,
   "metadata": {},
   "outputs": [
    {
     "name": "stdout",
     "output_type": "stream",
     "text": [
      "[1, 4, 9, 16, 25, 36, 49, 64, 81]\n"
     ]
    }
   ],
   "source": [
    "def power(x):\n",
    "    return x**2\n",
    "p_num = [power(x) for x in range(1, 10)]\n",
    "print(p_num)"
   ]
  },
  {
   "cell_type": "markdown",
   "metadata": {},
   "source": [
    "# Lambda Functions using List Comprehensions"
   ]
  },
  {
   "cell_type": "code",
   "execution_count": 47,
   "metadata": {},
   "outputs": [
    {
     "name": "stdout",
     "output_type": "stream",
     "text": [
      "[5, 10, 25, 20]\n"
     ]
    }
   ],
   "source": [
    "numbers = [1, 5, 7, 10, 3, 25, 12, 20]\n",
    "result = list(filter(lambda x: x%5 == 0, numbers))\n",
    "print(result)"
   ]
  },
  {
   "cell_type": "code",
   "execution_count": 14,
   "metadata": {},
   "outputs": [
    {
     "name": "stdout",
     "output_type": "stream",
     "text": [
      "3\n",
      "{1: 1, 2: 4, 3: 9}\n"
     ]
    }
   ],
   "source": [
    "d = {}\n",
    "n = int(input())\n",
    "\n",
    "for i in range(0, n):\n",
    "    d[i+1] = (i+1)*(i+1)\n",
    "\n",
    "print(d)"
   ]
  },
  {
   "cell_type": "code",
   "execution_count": 17,
   "metadata": {},
   "outputs": [
    {
     "name": "stdout",
     "output_type": "stream",
     "text": [
      "UP5\n",
      "DOWN3\n",
      "LEFT3\n",
      "RIGHT2\n",
      "2\n"
     ]
    }
   ],
   "source": [
    "UP = int(input(\"UP\"))\n",
    "DOWN = int(input(\"DOWN\"))\n",
    "LEFT = int(input(\"LEFT\"))\n",
    "RIGHT = int(input(\"RIGHT\"))\n",
    "a = UP - DOWN\n",
    "b = LEFT - RIGHT\n",
    "c = pow((a+b),0.5)\n",
    "print(round(c))"
   ]
  },
  {
   "cell_type": "code",
   "execution_count": null,
   "metadata": {},
   "outputs": [],
   "source": []
  }
 ],
 "metadata": {
  "kernelspec": {
   "display_name": "Python 3",
   "language": "python",
   "name": "python3"
  },
  "language_info": {
   "codemirror_mode": {
    "name": "ipython",
    "version": 3
   },
   "file_extension": ".py",
   "mimetype": "text/x-python",
   "name": "python",
   "nbconvert_exporter": "python",
   "pygments_lexer": "ipython3",
   "version": "3.8.3"
  }
 },
 "nbformat": 4,
 "nbformat_minor": 4
}
